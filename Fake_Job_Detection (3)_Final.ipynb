{
 "cells": [
  {
   "cell_type": "markdown",
   "metadata": {
    "colab_type": "text",
    "id": "view-in-github"
   },
   "source": [
    "<a href=\"https://colab.research.google.com/github/mithilesh-p/Fake-Job-Prediction/blob/main/Fake_Job_Detection.ipynb\" target=\"_parent\"><img src=\"https://colab.research.google.com/assets/colab-badge.svg\" alt=\"Open In Colab\"/></a>"
   ]
  },
  {
   "cell_type": "markdown",
   "metadata": {
    "id": "gS3qOx1L1OXN"
   },
   "source": [
    " **IMPORTING IMPOTANT LIBRARIES**"
   ]
  },
  {
   "cell_type": "code",
   "execution_count": 1,
   "metadata": {
    "id": "n1e3E53EO-oh"
   },
   "outputs": [],
   "source": [
    "import numpy as np\n",
    "import pandas as pd\n",
    "import seaborn as sns\n",
    "import joblib\n",
    "import matplotlib.pyplot as plt\n",
    "%matplotlib inline\n"
   ]
  },
  {
   "cell_type": "markdown",
   "metadata": {
    "id": "xhWSlJnC1ap6"
   },
   "source": [
    " IMPORTING THE DATA "
   ]
  },
  {
   "cell_type": "code",
   "execution_count": 2,
   "metadata": {
    "colab": {
     "base_uri": "https://localhost:8080/",
     "height": 600
    },
    "id": "ODXIX17ePPJB",
    "outputId": "d0a3e105-638c-46ac-d877-38b9b98a26d6"
   },
   "outputs": [
    {
     "data": {
      "text/html": [
       "<div>\n",
       "<style scoped>\n",
       "    .dataframe tbody tr th:only-of-type {\n",
       "        vertical-align: middle;\n",
       "    }\n",
       "\n",
       "    .dataframe tbody tr th {\n",
       "        vertical-align: top;\n",
       "    }\n",
       "\n",
       "    .dataframe thead th {\n",
       "        text-align: right;\n",
       "    }\n",
       "</style>\n",
       "<table border=\"1\" class=\"dataframe\">\n",
       "  <thead>\n",
       "    <tr style=\"text-align: right;\">\n",
       "      <th></th>\n",
       "      <th>job_id</th>\n",
       "      <th>title</th>\n",
       "      <th>location</th>\n",
       "      <th>department</th>\n",
       "      <th>salary_range</th>\n",
       "      <th>company_profile</th>\n",
       "      <th>description</th>\n",
       "      <th>requirements</th>\n",
       "      <th>benefits</th>\n",
       "      <th>telecommuting</th>\n",
       "      <th>has_company_logo</th>\n",
       "      <th>has_questions</th>\n",
       "      <th>employment_type</th>\n",
       "      <th>required_experience</th>\n",
       "      <th>required_education</th>\n",
       "      <th>industry</th>\n",
       "      <th>function</th>\n",
       "      <th>fraudulent</th>\n",
       "    </tr>\n",
       "  </thead>\n",
       "  <tbody>\n",
       "    <tr>\n",
       "      <th>0</th>\n",
       "      <td>1</td>\n",
       "      <td>Marketing Intern</td>\n",
       "      <td>US, NY, New York</td>\n",
       "      <td>Marketing</td>\n",
       "      <td>NaN</td>\n",
       "      <td>We're Food52, and we've created a groundbreaki...</td>\n",
       "      <td>Food52, a fast-growing, James Beard Award-winn...</td>\n",
       "      <td>Experience with content management systems a m...</td>\n",
       "      <td>NaN</td>\n",
       "      <td>0</td>\n",
       "      <td>1</td>\n",
       "      <td>0</td>\n",
       "      <td>Other</td>\n",
       "      <td>Internship</td>\n",
       "      <td>NaN</td>\n",
       "      <td>NaN</td>\n",
       "      <td>Marketing</td>\n",
       "      <td>0</td>\n",
       "    </tr>\n",
       "    <tr>\n",
       "      <th>1</th>\n",
       "      <td>2</td>\n",
       "      <td>Customer Service - Cloud Video Production</td>\n",
       "      <td>NZ, , Auckland</td>\n",
       "      <td>Success</td>\n",
       "      <td>NaN</td>\n",
       "      <td>90 Seconds, the worlds Cloud Video Production ...</td>\n",
       "      <td>Organised - Focused - Vibrant - Awesome!Do you...</td>\n",
       "      <td>What we expect from you:Your key responsibilit...</td>\n",
       "      <td>What you will get from usThrough being part of...</td>\n",
       "      <td>0</td>\n",
       "      <td>1</td>\n",
       "      <td>0</td>\n",
       "      <td>Full-time</td>\n",
       "      <td>Not Applicable</td>\n",
       "      <td>NaN</td>\n",
       "      <td>Marketing and Advertising</td>\n",
       "      <td>Customer Service</td>\n",
       "      <td>0</td>\n",
       "    </tr>\n",
       "    <tr>\n",
       "      <th>2</th>\n",
       "      <td>3</td>\n",
       "      <td>Commissioning Machinery Assistant (CMA)</td>\n",
       "      <td>US, IA, Wever</td>\n",
       "      <td>NaN</td>\n",
       "      <td>NaN</td>\n",
       "      <td>Valor Services provides Workforce Solutions th...</td>\n",
       "      <td>Our client, located in Houston, is actively se...</td>\n",
       "      <td>Implement pre-commissioning and commissioning ...</td>\n",
       "      <td>NaN</td>\n",
       "      <td>0</td>\n",
       "      <td>1</td>\n",
       "      <td>0</td>\n",
       "      <td>NaN</td>\n",
       "      <td>NaN</td>\n",
       "      <td>NaN</td>\n",
       "      <td>NaN</td>\n",
       "      <td>NaN</td>\n",
       "      <td>0</td>\n",
       "    </tr>\n",
       "    <tr>\n",
       "      <th>3</th>\n",
       "      <td>4</td>\n",
       "      <td>Account Executive - Washington DC</td>\n",
       "      <td>US, DC, Washington</td>\n",
       "      <td>Sales</td>\n",
       "      <td>NaN</td>\n",
       "      <td>Our passion for improving quality of life thro...</td>\n",
       "      <td>THE COMPANY: ESRI – Environmental Systems Rese...</td>\n",
       "      <td>EDUCATION: Bachelor’s or Master’s in GIS, busi...</td>\n",
       "      <td>Our culture is anything but corporate—we have ...</td>\n",
       "      <td>0</td>\n",
       "      <td>1</td>\n",
       "      <td>0</td>\n",
       "      <td>Full-time</td>\n",
       "      <td>Mid-Senior level</td>\n",
       "      <td>Bachelor's Degree</td>\n",
       "      <td>Computer Software</td>\n",
       "      <td>Sales</td>\n",
       "      <td>0</td>\n",
       "    </tr>\n",
       "    <tr>\n",
       "      <th>4</th>\n",
       "      <td>5</td>\n",
       "      <td>Bill Review Manager</td>\n",
       "      <td>US, FL, Fort Worth</td>\n",
       "      <td>NaN</td>\n",
       "      <td>NaN</td>\n",
       "      <td>SpotSource Solutions LLC is a Global Human Cap...</td>\n",
       "      <td>JOB TITLE: Itemization Review ManagerLOCATION:...</td>\n",
       "      <td>QUALIFICATIONS:RN license in the State of Texa...</td>\n",
       "      <td>Full Benefits Offered</td>\n",
       "      <td>0</td>\n",
       "      <td>1</td>\n",
       "      <td>1</td>\n",
       "      <td>Full-time</td>\n",
       "      <td>Mid-Senior level</td>\n",
       "      <td>Bachelor's Degree</td>\n",
       "      <td>Hospital &amp; Health Care</td>\n",
       "      <td>Health Care Provider</td>\n",
       "      <td>0</td>\n",
       "    </tr>\n",
       "  </tbody>\n",
       "</table>\n",
       "</div>"
      ],
      "text/plain": [
       "   job_id                                      title            location  \\\n",
       "0       1                           Marketing Intern    US, NY, New York   \n",
       "1       2  Customer Service - Cloud Video Production      NZ, , Auckland   \n",
       "2       3    Commissioning Machinery Assistant (CMA)       US, IA, Wever   \n",
       "3       4          Account Executive - Washington DC  US, DC, Washington   \n",
       "4       5                        Bill Review Manager  US, FL, Fort Worth   \n",
       "\n",
       "  department salary_range                                    company_profile  \\\n",
       "0  Marketing          NaN  We're Food52, and we've created a groundbreaki...   \n",
       "1    Success          NaN  90 Seconds, the worlds Cloud Video Production ...   \n",
       "2        NaN          NaN  Valor Services provides Workforce Solutions th...   \n",
       "3      Sales          NaN  Our passion for improving quality of life thro...   \n",
       "4        NaN          NaN  SpotSource Solutions LLC is a Global Human Cap...   \n",
       "\n",
       "                                         description  \\\n",
       "0  Food52, a fast-growing, James Beard Award-winn...   \n",
       "1  Organised - Focused - Vibrant - Awesome!Do you...   \n",
       "2  Our client, located in Houston, is actively se...   \n",
       "3  THE COMPANY: ESRI – Environmental Systems Rese...   \n",
       "4  JOB TITLE: Itemization Review ManagerLOCATION:...   \n",
       "\n",
       "                                        requirements  \\\n",
       "0  Experience with content management systems a m...   \n",
       "1  What we expect from you:Your key responsibilit...   \n",
       "2  Implement pre-commissioning and commissioning ...   \n",
       "3  EDUCATION: Bachelor’s or Master’s in GIS, busi...   \n",
       "4  QUALIFICATIONS:RN license in the State of Texa...   \n",
       "\n",
       "                                            benefits  telecommuting  \\\n",
       "0                                                NaN              0   \n",
       "1  What you will get from usThrough being part of...              0   \n",
       "2                                                NaN              0   \n",
       "3  Our culture is anything but corporate—we have ...              0   \n",
       "4                              Full Benefits Offered              0   \n",
       "\n",
       "   has_company_logo  has_questions employment_type required_experience  \\\n",
       "0                 1              0           Other          Internship   \n",
       "1                 1              0       Full-time      Not Applicable   \n",
       "2                 1              0             NaN                 NaN   \n",
       "3                 1              0       Full-time    Mid-Senior level   \n",
       "4                 1              1       Full-time    Mid-Senior level   \n",
       "\n",
       "  required_education                   industry              function  \\\n",
       "0                NaN                        NaN             Marketing   \n",
       "1                NaN  Marketing and Advertising      Customer Service   \n",
       "2                NaN                        NaN                   NaN   \n",
       "3  Bachelor's Degree          Computer Software                 Sales   \n",
       "4  Bachelor's Degree     Hospital & Health Care  Health Care Provider   \n",
       "\n",
       "   fraudulent  \n",
       "0           0  \n",
       "1           0  \n",
       "2           0  \n",
       "3           0  \n",
       "4           0  "
      ]
     },
     "execution_count": 2,
     "metadata": {},
     "output_type": "execute_result"
    }
   ],
   "source": [
    "df1 = pd.read_csv('C:/Users/DELL/Downloads/fake_job_postings.csv')\n",
    "df1.head()"
   ]
  },
  {
   "cell_type": "code",
   "execution_count": 3,
   "metadata": {},
   "outputs": [
    {
     "data": {
      "text/plain": [
       "job_id                     0\n",
       "title                      0\n",
       "location                 346\n",
       "department             11547\n",
       "salary_range           15012\n",
       "company_profile         3308\n",
       "description                1\n",
       "requirements            2695\n",
       "benefits                7210\n",
       "telecommuting              0\n",
       "has_company_logo           0\n",
       "has_questions              0\n",
       "employment_type         3471\n",
       "required_experience     7050\n",
       "required_education      8105\n",
       "industry                4903\n",
       "function                6455\n",
       "fraudulent                 0\n",
       "dtype: int64"
      ]
     },
     "execution_count": 3,
     "metadata": {},
     "output_type": "execute_result"
    }
   ],
   "source": [
    "df1.isna().sum()"
   ]
  },
  {
   "cell_type": "code",
   "execution_count": 102,
   "metadata": {},
   "outputs": [
    {
     "data": {
      "text/html": [
       "<div>\n",
       "<style scoped>\n",
       "    .dataframe tbody tr th:only-of-type {\n",
       "        vertical-align: middle;\n",
       "    }\n",
       "\n",
       "    .dataframe tbody tr th {\n",
       "        vertical-align: top;\n",
       "    }\n",
       "\n",
       "    .dataframe thead th {\n",
       "        text-align: right;\n",
       "    }\n",
       "</style>\n",
       "<table border=\"1\" class=\"dataframe\">\n",
       "  <thead>\n",
       "    <tr style=\"text-align: right;\">\n",
       "      <th></th>\n",
       "      <th>column</th>\n",
       "      <th>description</th>\n",
       "      <th>data_type</th>\n",
       "    </tr>\n",
       "  </thead>\n",
       "  <tbody>\n",
       "    <tr>\n",
       "      <th>0</th>\n",
       "      <td>job_id</td>\n",
       "      <td>A unique ID assigned to each job</td>\n",
       "      <td>int64</td>\n",
       "    </tr>\n",
       "    <tr>\n",
       "      <th>1</th>\n",
       "      <td>title</td>\n",
       "      <td>The title of the advertised position or job</td>\n",
       "      <td>object</td>\n",
       "    </tr>\n",
       "    <tr>\n",
       "      <th>2</th>\n",
       "      <td>location</td>\n",
       "      <td>Information about where is the job</td>\n",
       "      <td>object</td>\n",
       "    </tr>\n",
       "    <tr>\n",
       "      <th>3</th>\n",
       "      <td>department</td>\n",
       "      <td>The department offering the job</td>\n",
       "      <td>object</td>\n",
       "    </tr>\n",
       "    <tr>\n",
       "      <th>4</th>\n",
       "      <td>salary_range</td>\n",
       "      <td>The amount that the job pays</td>\n",
       "      <td>object</td>\n",
       "    </tr>\n",
       "    <tr>\n",
       "      <th>5</th>\n",
       "      <td>company_profile</td>\n",
       "      <td>Information about the company advertising the job</td>\n",
       "      <td>object</td>\n",
       "    </tr>\n",
       "    <tr>\n",
       "      <th>6</th>\n",
       "      <td>description</td>\n",
       "      <td>Job description</td>\n",
       "      <td>object</td>\n",
       "    </tr>\n",
       "    <tr>\n",
       "      <th>7</th>\n",
       "      <td>requirements</td>\n",
       "      <td>Requirements enlisted</td>\n",
       "      <td>object</td>\n",
       "    </tr>\n",
       "    <tr>\n",
       "      <th>8</th>\n",
       "      <td>benefits</td>\n",
       "      <td>Benefits offered by the company with the job</td>\n",
       "      <td>object</td>\n",
       "    </tr>\n",
       "    <tr>\n",
       "      <th>9</th>\n",
       "      <td>telecommuting</td>\n",
       "      <td>1 if work from home allowed, 0 otherwise</td>\n",
       "      <td>int64</td>\n",
       "    </tr>\n",
       "    <tr>\n",
       "      <th>10</th>\n",
       "      <td>has_company_logo</td>\n",
       "      <td>1 if the company has a logo, 0 otherwise</td>\n",
       "      <td>int64</td>\n",
       "    </tr>\n",
       "    <tr>\n",
       "      <th>11</th>\n",
       "      <td>has_questions</td>\n",
       "      <td>1 if the job has any questions, 0 otherwise</td>\n",
       "      <td>int64</td>\n",
       "    </tr>\n",
       "    <tr>\n",
       "      <th>12</th>\n",
       "      <td>employment_type</td>\n",
       "      <td>full-time, part-time, or contract etc.</td>\n",
       "      <td>object</td>\n",
       "    </tr>\n",
       "    <tr>\n",
       "      <th>13</th>\n",
       "      <td>required_experience</td>\n",
       "      <td>the experience required for the job</td>\n",
       "      <td>object</td>\n",
       "    </tr>\n",
       "    <tr>\n",
       "      <th>14</th>\n",
       "      <td>required_education</td>\n",
       "      <td>educational requirements for the job</td>\n",
       "      <td>object</td>\n",
       "    </tr>\n",
       "    <tr>\n",
       "      <th>15</th>\n",
       "      <td>industry</td>\n",
       "      <td>The industry the job is in e.g engineering</td>\n",
       "      <td>object</td>\n",
       "    </tr>\n",
       "    <tr>\n",
       "      <th>16</th>\n",
       "      <td>function</td>\n",
       "      <td>what work is required from the applicant</td>\n",
       "      <td>object</td>\n",
       "    </tr>\n",
       "    <tr>\n",
       "      <th>17</th>\n",
       "      <td>fraudulent</td>\n",
       "      <td>1 if fake job, 0 if real job</td>\n",
       "      <td>int64</td>\n",
       "    </tr>\n",
       "  </tbody>\n",
       "</table>\n",
       "</div>"
      ],
      "text/plain": [
       "                 column                                        description  \\\n",
       "0                job_id                   A unique ID assigned to each job   \n",
       "1                 title        The title of the advertised position or job   \n",
       "2              location                 Information about where is the job   \n",
       "3            department                    The department offering the job   \n",
       "4          salary_range                       The amount that the job pays   \n",
       "5       company_profile  Information about the company advertising the job   \n",
       "6           description                                    Job description   \n",
       "7          requirements                              Requirements enlisted   \n",
       "8              benefits       Benefits offered by the company with the job   \n",
       "9         telecommuting           1 if work from home allowed, 0 otherwise   \n",
       "10     has_company_logo           1 if the company has a logo, 0 otherwise   \n",
       "11        has_questions        1 if the job has any questions, 0 otherwise   \n",
       "12      employment_type             full-time, part-time, or contract etc.   \n",
       "13  required_experience                the experience required for the job   \n",
       "14   required_education               educational requirements for the job   \n",
       "15             industry         The industry the job is in e.g engineering   \n",
       "16             function           what work is required from the applicant   \n",
       "17           fraudulent                       1 if fake job, 0 if real job   \n",
       "\n",
       "   data_type  \n",
       "0      int64  \n",
       "1     object  \n",
       "2     object  \n",
       "3     object  \n",
       "4     object  \n",
       "5     object  \n",
       "6     object  \n",
       "7     object  \n",
       "8     object  \n",
       "9      int64  \n",
       "10     int64  \n",
       "11     int64  \n",
       "12    object  \n",
       "13    object  \n",
       "14    object  \n",
       "15    object  \n",
       "16    object  \n",
       "17     int64  "
      ]
     },
     "execution_count": 102,
     "metadata": {},
     "output_type": "execute_result"
    }
   ],
   "source": [
    "col_desc = pd.DataFrame()\n",
    "col_desc[\"column\"] = df1.columns\n",
    "col_desc[\"description\"] = [\n",
    "    \"A unique ID assigned to each job\",\n",
    "    \"The title of the advertised position or job\",\n",
    "    \"Information about where is the job\",\n",
    "    \"The department offering the job\",\n",
    "    \"The amount that the job pays\",\n",
    "    \"Information about the company advertising the job\",\n",
    "    \"Job description\",\n",
    "    \"Requirements enlisted\",\n",
    "    \"Benefits offered by the company with the job\",\n",
    "    \"1 if work from home allowed, 0 otherwise\",\n",
    "    \"1 if the company has a logo, 0 otherwise\",\n",
    "    \"1 if the job has any questions, 0 otherwise\",\n",
    "    \"full-time, part-time, or contract etc.\",\n",
    "    \"the experience required for the job\",\n",
    "    \"educational requirements for the job\",\n",
    "    \"The industry the job is in e.g engineering\",\n",
    "    \"what work is required from the applicant\",\n",
    "    \"1 if fake job, 0 if real job\"\n",
    "]\n",
    "col_desc['data_type']=['int64','object','object','object','object','object','object','object','object','int64','int64','int64','object','object','object','object','object','int64']\n",
    "col_desc"
   ]
  },
  {
   "cell_type": "code",
   "execution_count": 101,
   "metadata": {},
   "outputs": [
    {
     "name": "stdout",
     "output_type": "stream",
     "text": [
      "<class 'pandas.core.frame.DataFrame'>\n",
      "RangeIndex: 17880 entries, 0 to 17879\n",
      "Data columns (total 18 columns):\n",
      " #   Column               Non-Null Count  Dtype \n",
      "---  ------               --------------  ----- \n",
      " 0   job_id               17880 non-null  int64 \n",
      " 1   title                17880 non-null  object\n",
      " 2   location             17534 non-null  object\n",
      " 3   department           6333 non-null   object\n",
      " 4   salary_range         2868 non-null   object\n",
      " 5   company_profile      14572 non-null  object\n",
      " 6   description          17879 non-null  object\n",
      " 7   requirements         15185 non-null  object\n",
      " 8   benefits             10670 non-null  object\n",
      " 9   telecommuting        17880 non-null  int64 \n",
      " 10  has_company_logo     17880 non-null  int64 \n",
      " 11  has_questions        17880 non-null  int64 \n",
      " 12  employment_type      14409 non-null  object\n",
      " 13  required_experience  10830 non-null  object\n",
      " 14  required_education   9775 non-null   object\n",
      " 15  industry             12977 non-null  object\n",
      " 16  function             11425 non-null  object\n",
      " 17  fraudulent           17880 non-null  int64 \n",
      "dtypes: int64(5), object(13)\n",
      "memory usage: 2.5+ MB\n"
     ]
    }
   ],
   "source": [
    "df1.info()"
   ]
  },
  {
   "cell_type": "code",
   "execution_count": 5,
   "metadata": {},
   "outputs": [
    {
     "data": {
      "image/png": "[encoded data removed]",
      "text/plain": [
       "<Figure size 640x480 with 1 Axes>"
      ]
     },
     "metadata": {},
     "output_type": "display_data"
    }
   ],
   "source": [
    "missing = df1.isna().sum()\n",
    "missing = missing[missing!=0]\n",
    "\n",
    "ax = missing.plot(kind='bar', color=[\"b\", \"r\", \"g\"])\n",
    "ax.set_ylabel(\"Number of missing values\")\n",
    "ax.set_xlabel(\"Columns\")\n",
    "_ = plt.title(\"Null value count in each column\")"
   ]
  },
  {
   "cell_type": "code",
   "execution_count": 6,
   "metadata": {
    "colab": {
     "base_uri": "https://localhost:8080/",
     "height": 206
    },
    "id": "Nr3Uh1icSByE",
    "outputId": "aa492c33-d296-49a4-d314-e79733012486"
   },
   "outputs": [
    {
     "data": {
      "text/html": [
       "<div>\n",
       "<style scoped>\n",
       "    .dataframe tbody tr th:only-of-type {\n",
       "        vertical-align: middle;\n",
       "    }\n",
       "\n",
       "    .dataframe tbody tr th {\n",
       "        vertical-align: top;\n",
       "    }\n",
       "\n",
       "    .dataframe thead th {\n",
       "        text-align: right;\n",
       "    }\n",
       "</style>\n",
       "<table border=\"1\" class=\"dataframe\">\n",
       "  <thead>\n",
       "    <tr style=\"text-align: right;\">\n",
       "      <th></th>\n",
       "      <th>title</th>\n",
       "      <th>description</th>\n",
       "      <th>fraudulent</th>\n",
       "    </tr>\n",
       "  </thead>\n",
       "  <tbody>\n",
       "    <tr>\n",
       "      <th>0</th>\n",
       "      <td>Marketing Intern</td>\n",
       "      <td>Food52, a fast-growing, James Beard Award-winn...</td>\n",
       "      <td>0</td>\n",
       "    </tr>\n",
       "    <tr>\n",
       "      <th>1</th>\n",
       "      <td>Customer Service - Cloud Video Production</td>\n",
       "      <td>Organised - Focused - Vibrant - Awesome!Do you...</td>\n",
       "      <td>0</td>\n",
       "    </tr>\n",
       "    <tr>\n",
       "      <th>2</th>\n",
       "      <td>Commissioning Machinery Assistant (CMA)</td>\n",
       "      <td>Our client, located in Houston, is actively se...</td>\n",
       "      <td>0</td>\n",
       "    </tr>\n",
       "    <tr>\n",
       "      <th>3</th>\n",
       "      <td>Account Executive - Washington DC</td>\n",
       "      <td>THE COMPANY: ESRI – Environmental Systems Rese...</td>\n",
       "      <td>0</td>\n",
       "    </tr>\n",
       "    <tr>\n",
       "      <th>4</th>\n",
       "      <td>Bill Review Manager</td>\n",
       "      <td>JOB TITLE: Itemization Review ManagerLOCATION:...</td>\n",
       "      <td>0</td>\n",
       "    </tr>\n",
       "  </tbody>\n",
       "</table>\n",
       "</div>"
      ],
      "text/plain": [
       "                                       title  \\\n",
       "0                           Marketing Intern   \n",
       "1  Customer Service - Cloud Video Production   \n",
       "2    Commissioning Machinery Assistant (CMA)   \n",
       "3          Account Executive - Washington DC   \n",
       "4                        Bill Review Manager   \n",
       "\n",
       "                                         description  fraudulent  \n",
       "0  Food52, a fast-growing, James Beard Award-winn...           0  \n",
       "1  Organised - Focused - Vibrant - Awesome!Do you...           0  \n",
       "2  Our client, located in Houston, is actively se...           0  \n",
       "3  THE COMPANY: ESRI – Environmental Systems Rese...           0  \n",
       "4  JOB TITLE: Itemization Review ManagerLOCATION:...           0  "
      ]
     },
     "execution_count": 6,
     "metadata": {},
     "output_type": "execute_result"
    }
   ],
   "source": [
    "df=df1[['title','description','fraudulent']]\n",
    "df.head()"
   ]
  },
  {
   "cell_type": "code",
   "execution_count": 7,
   "metadata": {},
   "outputs": [
    {
     "data": {
      "text/plain": [
       "title          0\n",
       "description    1\n",
       "fraudulent     0\n",
       "dtype: int64"
      ]
     },
     "execution_count": 7,
     "metadata": {},
     "output_type": "execute_result"
    }
   ],
   "source": [
    "df.isna().sum()"
   ]
  },
  {
   "cell_type": "code",
   "execution_count": 8,
   "metadata": {
    "id": "z3RvjutnSD08"
   },
   "outputs": [],
   "source": [
    "###Drop Nan Values\n",
    "df=df.dropna()"
   ]
  },
  {
   "cell_type": "code",
   "execution_count": 9,
   "metadata": {},
   "outputs": [
    {
     "data": {
      "text/plain": [
       "(17879, 3)"
      ]
     },
     "execution_count": 9,
     "metadata": {},
     "output_type": "execute_result"
    }
   ],
   "source": [
    "df.isna().sum()\n",
    "df.shape"
   ]
  },
  {
   "cell_type": "code",
   "execution_count": 10,
   "metadata": {
    "id": "8u-KIVx4SGUG"
   },
   "outputs": [],
   "source": [
    "## Get the Independent Features\n",
    "X=df.drop('fraudulent',axis=1)"
   ]
  },
  {
   "cell_type": "code",
   "execution_count": 11,
   "metadata": {
    "id": "hVz4ylz1SJp8"
   },
   "outputs": [],
   "source": [
    "## Get the Dependent features\n",
    "y=df['fraudulent']"
   ]
  },
  {
   "cell_type": "markdown",
   "metadata": {},
   "source": [
    "Data Visualization"
   ]
  },
  {
   "cell_type": "code",
   "execution_count": 12,
   "metadata": {},
   "outputs": [],
   "source": [
    "import seaborn as sb\n",
    "import matplotlib.pyplot as plt\n",
    "import plotly.express as px"
   ]
  },
  {
   "cell_type": "code",
   "execution_count": 13,
   "metadata": {},
   "outputs": [
    {
     "data": {
      "text/plain": [
       "0    17014\n",
       "1      865\n",
       "Name: fraudulent, dtype: int64"
      ]
     },
     "execution_count": 13,
     "metadata": {},
     "output_type": "execute_result"
    }
   ],
   "source": [
    "df.fraudulent.value_counts()"
   ]
  },
  {
   "cell_type": "code",
   "execution_count": 14,
   "metadata": {
    "scrolled": true
   },
   "outputs": [
    {
     "data": {
      "image/png": "[encoded data removed]",
      "text/plain": [
       "<Figure size 2000x600 with 2 Axes>"
      ]
     },
     "metadata": {},
     "output_type": "display_data"
    }
   ],
   "source": [
    "# Count of each category\n",
    "counts = df1['fraudulent'].value_counts()\n",
    "\n",
    "# Creating subplots\n",
    "f, ax = plt.subplots(1, 2, figsize=(20, 6))\n",
    "\n",
    "# Pie chart\n",
    "ax[0] = counts.plot.pie(explode=[0, 0.1], autopct='%1.2f%%', ax=ax[0], labels=['Real Post', 'Fake Post'], colors=['blue', 'red'])\n",
    "ax[0].set_ylabel(' ')\n",
    "ax[0].set_title('Target Distribution in Dataset', fontsize=15)\n",
    "\n",
    "# Bar chart\n",
    "ax[1] = sns.barplot(x=counts.index, y=counts, ax=ax[1], palette=[\"blue\", \"red\"])\n",
    "ax[1].set_xticklabels([\"Real Post\", \"Fake Post\"])\n",
    "ax[1].set_ylabel(' ')\n",
    "ax[1].set_title('Target Count in Dataset', fontsize=15)\n",
    "\n",
    "# Adding counts on top of the bars\n",
    "for i, p in enumerate(ax[1].patches):\n",
    "    height = p.get_height()\n",
    "    ax[1].text(p.get_x() + p.get_width() / 2., height + 0.9, counts[i], ha=\"center\")\n",
    "\n",
    "# Applying CSS from previous settings\n",
    "for ax_single in ax:\n",
    "    ax_single.tick_params(axis='both', labelsize=14)  # Adjust tick label size\n",
    "    ax_single.title.set_fontsize(15)  # Adjust title font size\n",
    "\n",
    "plt.show()\n"
   ]
  },
  {
   "cell_type": "code",
   "execution_count": 15,
   "metadata": {},
   "outputs": [
    {
     "name": "stdout",
     "output_type": "stream",
     "text": [
      "     Attribute  Count\n",
      "0        title  11231\n",
      "1  description  14801\n",
      "2   fraudulent      2\n"
     ]
    }
   ],
   "source": [
    "#@title\n",
    "#Label counts for each attribute\n",
    "labelcountlist = []\n",
    "for x in df.columns:\n",
    "        labelcountlist.append((len(df[x].unique())))\n",
    "labelcount = pd.DataFrame({'Attribute': df.columns, 'Count': labelcountlist})\n",
    "print(labelcount)"
   ]
  },
  {
   "cell_type": "code",
   "execution_count": 16,
   "metadata": {
    "id": "9Ah6VZHQSTWH"
   },
   "outputs": [
    {
     "name": "stdout",
     "output_type": "stream",
     "text": [
      "WARNING:tensorflow:From C:\\Users\\DELL\\anaconda3\\lib\\site-packages\\keras\\src\\losses.py:2976: The name tf.losses.sparse_softmax_cross_entropy is deprecated. Please use tf.compat.v1.losses.sparse_softmax_cross_entropy instead.\n",
      "\n"
     ]
    }
   ],
   "source": [
    "from tensorflow.keras.layers import Embedding\n",
    "from tensorflow.keras.preprocessing.sequence import pad_sequences\n",
    "from tensorflow.keras.models import Sequential\n",
    "from tensorflow.keras.preprocessing.text import one_hot\n",
    "from tensorflow.keras.layers import LSTM\n",
    "from tensorflow.keras.layers import Dense\n",
    "from tensorflow.keras.layers import Bidirectional\n",
    "from tensorflow.keras.layers import Dropout"
   ]
  },
  {
   "cell_type": "code",
   "execution_count": 17,
   "metadata": {
    "id": "mb3zUYFDSV-F"
   },
   "outputs": [
    {
     "name": "stdout",
     "output_type": "stream",
     "text": [
      "                                                   title  \\\n",
      "0                                       Marketing Intern   \n",
      "1              Customer Service - Cloud Video Production   \n",
      "2                Commissioning Machinery Assistant (CMA)   \n",
      "3                      Account Executive - Washington DC   \n",
      "4                                    Bill Review Manager   \n",
      "...                                                  ...   \n",
      "17875                   Account Director - Distribution    \n",
      "17876                                 Payroll Accountant   \n",
      "17877  Project Cost Control Staff Engineer - Cost Con...   \n",
      "17878                                   Graphic Designer   \n",
      "17879                         Web Application Developers   \n",
      "\n",
      "                                             description  \n",
      "0      Food52, a fast-growing, James Beard Award-winn...  \n",
      "1      Organised - Focused - Vibrant - Awesome!Do you...  \n",
      "2      Our client, located in Houston, is actively se...  \n",
      "3      THE COMPANY: ESRI – Environmental Systems Rese...  \n",
      "4      JOB TITLE: Itemization Review ManagerLOCATION:...  \n",
      "...                                                  ...  \n",
      "17875  Just in case this is the first time you’ve vis...  \n",
      "17876  The Payroll Accountant will focus primarily on...  \n",
      "17877  Experienced Project Cost Control Staff Enginee...  \n",
      "17878  Nemsia Studios is looking for an experienced v...  \n",
      "17879  Who are we?Vend is an award winning web based ...  \n",
      "\n",
      "[17879 rows x 2 columns]\n"
     ]
    }
   ],
   "source": [
    "message = X.copy()\n",
    "print(message)"
   ]
  },
  {
   "cell_type": "code",
   "execution_count": 18,
   "metadata": {
    "id": "J2uFYA11SYoM"
   },
   "outputs": [],
   "source": [
    "message.reset_index(inplace=True)"
   ]
  },
  {
   "cell_type": "code",
   "execution_count": 19,
   "metadata": {
    "id": "rs268XXgSdkM"
   },
   "outputs": [],
   "source": [
    "import nltk\n",
    "import re\n",
    "from nltk.corpus import stopwords"
   ]
  },
  {
   "cell_type": "code",
   "execution_count": 20,
   "metadata": {
    "colab": {
     "base_uri": "https://localhost:8080/"
    },
    "id": "o7NwNCbZSeno",
    "outputId": "c9298eb2-9da6-49a2-ae95-6d45137af99d"
   },
   "outputs": [
    {
     "name": "stderr",
     "output_type": "stream",
     "text": [
      "[nltk_data] Downloading package stopwords to\n",
      "[nltk_data]     C:\\Users\\DELL\\AppData\\Roaming\\nltk_data...\n",
      "[nltk_data]   Package stopwords is already up-to-date!\n"
     ]
    },
    {
     "data": {
      "text/plain": [
       "True"
      ]
     },
     "execution_count": 20,
     "metadata": {},
     "output_type": "execute_result"
    }
   ],
   "source": [
    "nltk.download('stopwords')"
   ]
  },
  {
   "cell_type": "markdown",
   "metadata": {
    "id": "rLg7dSeVSkE9"
   },
   "source": [
    "**STEMMING OPERATION and Data Cleaning**"
   ]
  },
  {
   "cell_type": "code",
   "execution_count": 21,
   "metadata": {
    "id": "PKmDSzvuShn0"
   },
   "outputs": [],
   "source": [
    "from nltk.stem.porter import PorterStemmer\n",
    "ps = PorterStemmer()\n",
    "corpus = []\n",
    "for i in range(0, len(message)):\n",
    "#     review=re.compile(r\"<.*?>\")   \n",
    "    review = re.sub('[^a-zA-Z]', ' ', message['description'][i])\n",
    "    review = review.lower()\n",
    "    review = review.split()\n",
    "    review = [ps.stem(word) for word in review if not word in stopwords.words('english')]\n",
    "    review = ' '.join(review)\n",
    "    corpus.append(review)"
   ]
  },
  {
   "cell_type": "code",
   "execution_count": 22,
   "metadata": {},
   "outputs": [],
   "source": [
    "corpus1 = []\n",
    "for i in range(0, len(message)):\n",
    "#     review=re.compile(r\"<.*?>\")   \n",
    "    review = re.sub('[^a-zA-Z]', ' ', message['title'][i])\n",
    "    review = review.lower()\n",
    "    review = review.split()\n",
    "    review = [ps.stem(word) for word in review if not word in stopwords.words('english')]\n",
    "    review = ' '.join(review)\n",
    "    corpus1.append(review)"
   ]
  },
  {
   "cell_type": "code",
   "execution_count": 23,
   "metadata": {
    "colab": {
     "base_uri": "https://localhost:8080/",
     "height": 140
    },
    "id": "FPrN3t7iSom2",
    "outputId": "a6cd0a65-1dba-4322-846d-c8cc913aa4a0"
   },
   "outputs": [
    {
     "data": {
      "text/plain": [
       "'organis focus vibrant awesom passion custom servic slick type skill mayb account manag think administr cooler polar bear jetski need hear cloud video product servic opper glodal level yeah pretti cool seriou deliv world class product excel custom servic rapidli expand busi look talent project manag manag success deliveri video project manag client commun drive product process work coolest brand planet learn global team repres nz huge way enter next growth stage busi grow quickli intern therefor posit burst opportun right person enter busi right time second world cloud video product servic http url fbe afac cd c f b eef e e f ca dd second world cloud video product servic enabl brand agenc get high qualiti onlin video content shot produc anywher world fast afford manag seamlessli cloud purchas publish second remov hassl cost risk speed issu work regular video product compani manag everi aspect video project beauti onlin experi grow network rate video profession countri dedic product success team countri guarante video project success easi commiss quick googl adword campaign second produc almost video countri global brand includ world largest includ paypal l oreal soni barclay offic auckland london sydney tokyo amp singapor auckland offic base right heart wynyard quarter innov precinct gridakl'"
      ]
     },
     "execution_count": 23,
     "metadata": {},
     "output_type": "execute_result"
    }
   ],
   "source": [
    "corpus[1]"
   ]
  },
  {
   "cell_type": "code",
   "execution_count": 24,
   "metadata": {},
   "outputs": [
    {
     "data": {
      "text/plain": [
       "'custom servic cloud video product'"
      ]
     },
     "execution_count": 24,
     "metadata": {},
     "output_type": "execute_result"
    }
   ],
   "source": [
    "corpus1[1]"
   ]
  },
  {
   "cell_type": "code",
   "execution_count": 25,
   "metadata": {
    "colab": {
     "base_uri": "https://localhost:8080/"
    },
    "id": "fAR8f8c5UMuQ",
    "outputId": "6a5c28ed-a04f-4908-e577-886d532be939"
   },
   "outputs": [
    {
     "data": {
      "text/plain": [
       "17879"
      ]
     },
     "execution_count": 25,
     "metadata": {},
     "output_type": "execute_result"
    }
   ],
   "source": [
    "len(corpus)"
   ]
  },
  {
   "cell_type": "code",
   "execution_count": 26,
   "metadata": {
    "colab": {
     "base_uri": "https://localhost:8080/"
    },
    "id": "yRAIYXSgUR2P",
    "outputId": "da189d32-b6aa-4b53-ae14-3af1507f6d7a"
   },
   "outputs": [
    {
     "data": {
      "text/plain": [
       "(17879, 3)"
      ]
     },
     "execution_count": 26,
     "metadata": {},
     "output_type": "execute_result"
    }
   ],
   "source": [
    "message.shape"
   ]
  },
  {
   "cell_type": "code",
   "execution_count": 27,
   "metadata": {
    "id": "bUpfpcUlU0Jr"
   },
   "outputs": [],
   "source": [
    "message.title=corpus1\n",
    "message.description=corpus"
   ]
  },
  {
   "cell_type": "code",
   "execution_count": 28,
   "metadata": {
    "colab": {
     "base_uri": "https://localhost:8080/",
     "height": 206
    },
    "id": "eZs1H76yVUg2",
    "outputId": "47b5c6bb-d200-4c28-8e38-2906ec40c2da"
   },
   "outputs": [
    {
     "data": {
      "text/html": [
       "<div>\n",
       "<style scoped>\n",
       "    .dataframe tbody tr th:only-of-type {\n",
       "        vertical-align: middle;\n",
       "    }\n",
       "\n",
       "    .dataframe tbody tr th {\n",
       "        vertical-align: top;\n",
       "    }\n",
       "\n",
       "    .dataframe thead th {\n",
       "        text-align: right;\n",
       "    }\n",
       "</style>\n",
       "<table border=\"1\" class=\"dataframe\">\n",
       "  <thead>\n",
       "    <tr style=\"text-align: right;\">\n",
       "      <th></th>\n",
       "      <th>index</th>\n",
       "      <th>title</th>\n",
       "      <th>description</th>\n",
       "    </tr>\n",
       "  </thead>\n",
       "  <tbody>\n",
       "    <tr>\n",
       "      <th>0</th>\n",
       "      <td>0</td>\n",
       "      <td>market intern</td>\n",
       "      <td>food fast grow jame beard award win onlin food...</td>\n",
       "    </tr>\n",
       "    <tr>\n",
       "      <th>1</th>\n",
       "      <td>1</td>\n",
       "      <td>custom servic cloud video product</td>\n",
       "      <td>organis focus vibrant awesom passion custom se...</td>\n",
       "    </tr>\n",
       "    <tr>\n",
       "      <th>2</th>\n",
       "      <td>2</td>\n",
       "      <td>commiss machineri assist cma</td>\n",
       "      <td>client locat houston activ seek experienc comm...</td>\n",
       "    </tr>\n",
       "    <tr>\n",
       "      <th>3</th>\n",
       "      <td>3</td>\n",
       "      <td>account execut washington dc</td>\n",
       "      <td>compani esri environment system research insti...</td>\n",
       "    </tr>\n",
       "    <tr>\n",
       "      <th>4</th>\n",
       "      <td>4</td>\n",
       "      <td>bill review manag</td>\n",
       "      <td>job titl item review managerloc fort worth tx ...</td>\n",
       "    </tr>\n",
       "  </tbody>\n",
       "</table>\n",
       "</div>"
      ],
      "text/plain": [
       "   index                              title  \\\n",
       "0      0                      market intern   \n",
       "1      1  custom servic cloud video product   \n",
       "2      2       commiss machineri assist cma   \n",
       "3      3       account execut washington dc   \n",
       "4      4                  bill review manag   \n",
       "\n",
       "                                         description  \n",
       "0  food fast grow jame beard award win onlin food...  \n",
       "1  organis focus vibrant awesom passion custom se...  \n",
       "2  client locat houston activ seek experienc comm...  \n",
       "3  compani esri environment system research insti...  \n",
       "4  job titl item review managerloc fort worth tx ...  "
      ]
     },
     "execution_count": 28,
     "metadata": {},
     "output_type": "execute_result"
    }
   ],
   "source": [
    "message.head()"
   ]
  },
  {
   "cell_type": "markdown",
   "metadata": {
    "id": "GH1YDQ4AYCt0"
   },
   "source": [
    "** One Hot Representation**"
   ]
  },
  {
   "cell_type": "code",
   "execution_count": 29,
   "metadata": {
    "colab": {
     "base_uri": "https://localhost:8080/"
    },
    "id": "4cdOMMlRYjkB",
    "outputId": "fabfe7e6-7b7a-45ee-c098-129e43f4d47e"
   },
   "outputs": [
    {
     "name": "stdout",
     "output_type": "stream",
     "text": [
      "Requirement already satisfied: keras-tuner in c:\\users\\dell\\anaconda3\\lib\\site-packages (1.4.7)\n",
      "Requirement already satisfied: kt-legacy in c:\\users\\dell\\anaconda3\\lib\\site-packages (from keras-tuner) (1.0.5)\n",
      "Requirement already satisfied: packaging in c:\\users\\dell\\anaconda3\\lib\\site-packages (from keras-tuner) (21.3)\n",
      "Requirement already satisfied: keras in c:\\users\\dell\\anaconda3\\lib\\site-packages (from keras-tuner) (2.15.0)\n",
      "Requirement already satisfied: requests in c:\\users\\dell\\anaconda3\\lib\\site-packages (from keras-tuner) (2.28.1)\n",
      "Requirement already satisfied: pyparsing!=3.0.5,>=2.0.2 in c:\\users\\dell\\anaconda3\\lib\\site-packages (from packaging->keras-tuner) (3.0.9)\n",
      "Requirement already satisfied: charset-normalizer<3,>=2 in c:\\users\\dell\\anaconda3\\lib\\site-packages (from requests->keras-tuner) (2.0.4)\n",
      "Requirement already satisfied: urllib3<1.27,>=1.21.1 in c:\\users\\dell\\anaconda3\\lib\\site-packages (from requests->keras-tuner) (1.26.11)\n",
      "Requirement already satisfied: idna<4,>=2.5 in c:\\users\\dell\\anaconda3\\lib\\site-packages (from requests->keras-tuner) (3.3)\n",
      "Requirement already satisfied: certifi>=2017.4.17 in c:\\users\\dell\\anaconda3\\lib\\site-packages (from requests->keras-tuner) (2022.9.14)\n",
      "Note: you may need to restart the kernel to use updated packages.\n"
     ]
    }
   ],
   "source": [
    "pip install keras-tuner --upgrade"
   ]
  },
  {
   "cell_type": "code",
   "execution_count": 30,
   "metadata": {
    "id": "4DT-VbRjX-cU"
   },
   "outputs": [],
   "source": [
    "import tensorflow as tf\n",
    "from tensorflow import keras\n",
    "from tensorflow import keras\n",
    "from tensorflow.keras import layers\n",
    "from tensorflow.keras.models import Sequential\n",
    "from tensorflow.keras.layers import Dense\n",
    "import keras_tuner as kt\n",
    "from tensorflow.keras.layers import Embedding\n",
    "from tensorflow.keras.preprocessing.sequence import pad_sequences\n",
    "from tensorflow.keras.preprocessing.text import one_hot\n",
    "from tensorflow.keras.layers import LSTM"
   ]
  },
  {
   "cell_type": "code",
   "execution_count": 31,
   "metadata": {
    "id": "eD_-ukDPYo6V"
   },
   "outputs": [],
   "source": [
    "voc_size=5000"
   ]
  },
  {
   "cell_type": "code",
   "execution_count": 32,
   "metadata": {},
   "outputs": [
    {
     "data": {
      "text/plain": [
       "[1494, 1670, 61, 2599, 300]"
      ]
     },
     "execution_count": 32,
     "metadata": {},
     "output_type": "execute_result"
    }
   ],
   "source": [
    "onehot_repr1=[one_hot(words,voc_size)for words in corpus1] \n",
    "onehot_repr1[1]"
   ]
  },
  {
   "cell_type": "code",
   "execution_count": 33,
   "metadata": {
    "colab": {
     "base_uri": "https://localhost:8080/"
    },
    "id": "0zNjTN8dYrnF",
    "outputId": "2b7ec6f5-2553-47a0-afd2-af11f6964e92"
   },
   "outputs": [
    {
     "data": {
      "text/plain": [
       "[4382,\n",
       " 1938,\n",
       " 1313,\n",
       " 3528,\n",
       " 1403,\n",
       " 1494,\n",
       " 1670,\n",
       " 2204,\n",
       " 2018,\n",
       " 4842,\n",
       " 3669,\n",
       " 3265,\n",
       " 1591,\n",
       " 1802,\n",
       " 4974,\n",
       " 1571,\n",
       " 157,\n",
       " 3958,\n",
       " 4085,\n",
       " 1838,\n",
       " 3623,\n",
       " 61,\n",
       " 2599,\n",
       " 300,\n",
       " 1670,\n",
       " 4609,\n",
       " 4380,\n",
       " 3935,\n",
       " 3195,\n",
       " 4207,\n",
       " 4422,\n",
       " 3275,\n",
       " 3508,\n",
       " 2124,\n",
       " 756,\n",
       " 300,\n",
       " 4494,\n",
       " 1494,\n",
       " 1670,\n",
       " 3338,\n",
       " 3606,\n",
       " 3000,\n",
       " 3936,\n",
       " 2138,\n",
       " 3779,\n",
       " 1591,\n",
       " 1591,\n",
       " 660,\n",
       " 819,\n",
       " 2599,\n",
       " 3779,\n",
       " 1591,\n",
       " 2512,\n",
       " 1615,\n",
       " 4653,\n",
       " 300,\n",
       " 1506,\n",
       " 2712,\n",
       " 3402,\n",
       " 3377,\n",
       " 4047,\n",
       " 171,\n",
       " 2199,\n",
       " 669,\n",
       " 4228,\n",
       " 1372,\n",
       " 258,\n",
       " 2418,\n",
       " 1218,\n",
       " 2987,\n",
       " 4520,\n",
       " 4437,\n",
       " 3000,\n",
       " 2658,\n",
       " 352,\n",
       " 4754,\n",
       " 4164,\n",
       " 4341,\n",
       " 984,\n",
       " 1926,\n",
       " 3557,\n",
       " 3519,\n",
       " 1218,\n",
       " 3000,\n",
       " 3557,\n",
       " 4193,\n",
       " 1769,\n",
       " 2124,\n",
       " 61,\n",
       " 2599,\n",
       " 300,\n",
       " 1670,\n",
       " 10,\n",
       " 2714,\n",
       " 2452,\n",
       " 2432,\n",
       " 3103,\n",
       " 4267,\n",
       " 571,\n",
       " 316,\n",
       " 1100,\n",
       " 4789,\n",
       " 4789,\n",
       " 571,\n",
       " 812,\n",
       " 1581,\n",
       " 1769,\n",
       " 2124,\n",
       " 61,\n",
       " 2599,\n",
       " 300,\n",
       " 1670,\n",
       " 811,\n",
       " 3377,\n",
       " 558,\n",
       " 1989,\n",
       " 2617,\n",
       " 4856,\n",
       " 4345,\n",
       " 2599,\n",
       " 4581,\n",
       " 36,\n",
       " 3331,\n",
       " 1097,\n",
       " 2124,\n",
       " 3232,\n",
       " 3947,\n",
       " 1591,\n",
       " 4380,\n",
       " 61,\n",
       " 10,\n",
       " 4200,\n",
       " 1769,\n",
       " 1376,\n",
       " 4703,\n",
       " 4563,\n",
       " 2453,\n",
       " 2105,\n",
       " 519,\n",
       " 2712,\n",
       " 2446,\n",
       " 2599,\n",
       " 300,\n",
       " 2066,\n",
       " 1591,\n",
       " 1021,\n",
       " 1160,\n",
       " 2599,\n",
       " 3779,\n",
       " 749,\n",
       " 4345,\n",
       " 2656,\n",
       " 2658,\n",
       " 2316,\n",
       " 3125,\n",
       " 2599,\n",
       " 4683,\n",
       " 4222,\n",
       " 4991,\n",
       " 300,\n",
       " 660,\n",
       " 669,\n",
       " 4222,\n",
       " 2186,\n",
       " 2599,\n",
       " 3779,\n",
       " 660,\n",
       " 3264,\n",
       " 3063,\n",
       " 1451,\n",
       " 3267,\n",
       " 4258,\n",
       " 3001,\n",
       " 1769,\n",
       " 3331,\n",
       " 4074,\n",
       " 2599,\n",
       " 4222,\n",
       " 2199,\n",
       " 3377,\n",
       " 2902,\n",
       " 2124,\n",
       " 1024,\n",
       " 2902,\n",
       " 3388,\n",
       " 2120,\n",
       " 4396,\n",
       " 1612,\n",
       " 2412,\n",
       " 384,\n",
       " 4679,\n",
       " 952,\n",
       " 4791,\n",
       " 762,\n",
       " 3322,\n",
       " 1746,\n",
       " 4679,\n",
       " 384,\n",
       " 1523,\n",
       " 3557,\n",
       " 346,\n",
       " 1741,\n",
       " 144,\n",
       " 1681,\n",
       " 2425,\n",
       " 189]"
      ]
     },
     "execution_count": 33,
     "metadata": {},
     "output_type": "execute_result"
    }
   ],
   "source": [
    "onehot_repr=[one_hot(words,voc_size)for words in corpus] \n",
    "onehot_repr[1]"
   ]
  },
  {
   "cell_type": "markdown",
   "metadata": {
    "id": "7CVY2ndz1s3H"
   },
   "source": [
    " **PADDING THE ONE HOT REPRESENTATION**"
   ]
  },
  {
   "cell_type": "code",
   "execution_count": 34,
   "metadata": {
    "colab": {
     "base_uri": "https://localhost:8080/"
    },
    "id": "soqvbCi6YzDi",
    "outputId": "a54c0c05-878f-4b14-d69c-cc03f9ca290f"
   },
   "outputs": [
    {
     "name": "stdout",
     "output_type": "stream",
     "text": [
      "[[ 715 4581 1591 ... 1429 3742 3308]\n",
      " [ 660 3264 3063 ... 1681 2425  189]\n",
      " [   0    0    0 ... 2289 3671 2768]\n",
      " ...\n",
      " [ 761 1875   56 ... 4843  401 3942]\n",
      " [1804  733 4668 ... 4600 4754 3779]\n",
      " [1265 1349 2772 ... 3195   40  282]]\n",
      "[[   0    0    0 ...    0 1429 4754]\n",
      " [   0    0    0 ...   61 2599  300]\n",
      " [   0    0    0 ... 3143 4863 3886]\n",
      " ...\n",
      " [   0    0    0 ... 4843 2524  483]\n",
      " [   0    0    0 ...    0 4668 3179]\n",
      " [   0    0    0 ...  573 2229 2593]]\n"
     ]
    }
   ],
   "source": [
    "sent_length=40\n",
    "embedded_docs=pad_sequences(onehot_repr,padding='pre',maxlen=sent_length)\n",
    "embedded_tit=pad_sequences(onehot_repr1,padding='pre',maxlen=sent_length)\n",
    "print(embedded_docs)\n",
    "print(embedded_tit)"
   ]
  },
  {
   "cell_type": "code",
   "execution_count": 35,
   "metadata": {
    "id": "AQAqu_T5ZABU"
   },
   "outputs": [],
   "source": [
    "message.title=np.array(embedded_tit)\n",
    "message.description=np.array(embedded_docs)"
   ]
  },
  {
   "cell_type": "code",
   "execution_count": 36,
   "metadata": {
    "id": "R1tvZfbOZJnv"
   },
   "outputs": [],
   "source": [
    "index=range(0,15184)"
   ]
  },
  {
   "cell_type": "code",
   "execution_count": 39,
   "metadata": {
    "id": "_iMwXYkQZPe6"
   },
   "outputs": [],
   "source": [
    "x_final=np.concatenate(([np.array(embedded_docs),np.array(embedded_tit)]),axis=1)\n",
    "y_final=np.array(y)"
   ]
  },
  {
   "cell_type": "code",
   "execution_count": 40,
   "metadata": {
    "id": "FXtDrm4WZSyz"
   },
   "outputs": [
    {
     "name": "stdout",
     "output_type": "stream",
     "text": [
      "(14303, 80)\n"
     ]
    }
   ],
   "source": [
    "from sklearn.model_selection import train_test_split\n",
    "from sklearn.metrics import accuracy_score, precision_score, recall_score, f1_score, confusion_matrix, roc_auc_score,classification_report\n",
    "x_train, x_test, y_train, y_test = train_test_split(x_final, y_final, test_size=0.20)\n",
    "print(x_train.shape)"
   ]
  },
  {
   "cell_type": "code",
   "execution_count": 41,
   "metadata": {},
   "outputs": [
    {
     "data": {
      "text/plain": [
       "array([[ 749, 2585, 3197, ..., 1274, 2608, 1838],\n",
       "       [  99, 2432, 3956, ...,    0, 4563, 4208],\n",
       "       [3001, 4471, 3001, ...,    0, 3001, 1591],\n",
       "       ...,\n",
       "       [ 805, 1722, 2712, ..., 2037, 1565, 2316],\n",
       "       [4181, 3404, 3442, ...,    0, 4505, 3445],\n",
       "       [   0,    0,    0, ..., 3331, 4073, 1670]])"
      ]
     },
     "execution_count": 41,
     "metadata": {},
     "output_type": "execute_result"
    }
   ],
   "source": [
    "x_train\n"
   ]
  },
  {
   "cell_type": "code",
   "execution_count": 42,
   "metadata": {
    "id": "aDiIenpRZWbL"
   },
   "outputs": [],
   "source": [
    "emb_vec_feature=40"
   ]
  },
  {
   "cell_type": "markdown",
   "metadata": {},
   "source": [
    "Modelling"
   ]
  },
  {
   "cell_type": "code",
   "execution_count": 43,
   "metadata": {},
   "outputs": [],
   "source": [
    "#@title\n",
    "Model_Score1= []\n",
    "Model_Score2=[]\n",
    "Model_Score3=[]\n",
    "Model_Score4=[]\n",
    "Model_Score5=[]\n",
    "Model_Name = []"
   ]
  },
  {
   "cell_type": "markdown",
   "metadata": {},
   "source": [
    "MLP Classifier"
   ]
  },
  {
   "cell_type": "code",
   "execution_count": 44,
   "metadata": {
    "id": "grqoZdJmamiM"
   },
   "outputs": [],
   "source": [
    "from sklearn.preprocessing import StandardScaler\n",
    "from sklearn.neural_network import MLPClassifier"
   ]
  },
  {
   "cell_type": "code",
   "execution_count": 51,
   "metadata": {},
   "outputs": [],
   "source": [
    "ss=StandardScaler()\n",
    "X_train=ss.fit_transform(x_train)\n",
    "X_test=ss.transform(x_test)"
   ]
  },
  {
   "cell_type": "code",
   "execution_count": 52,
   "metadata": {},
   "outputs": [
    {
     "data": {
      "text/plain": [
       "MLPClassifier(activation='logistic', hidden_layer_sizes=6, max_iter=1000,\n",
       "              random_state=1, solver='lbfgs')"
      ]
     },
     "execution_count": 52,
     "metadata": {},
     "output_type": "execute_result"
    }
   ],
   "source": [
    "clf = MLPClassifier(activation='logistic', hidden_layer_sizes=6, solver='lbfgs', max_iter=1000, random_state=1)\n",
    "clf.fit(X_train,y_train)\n"
   ]
  },
  {
   "cell_type": "code",
   "execution_count": 53,
   "metadata": {},
   "outputs": [],
   "source": [
    "clf_pred=clf.predict(X_test)"
   ]
  },
  {
   "cell_type": "code",
   "execution_count": 54,
   "metadata": {},
   "outputs": [
    {
     "data": {
      "text/plain": [
       "array([[3407,   26],\n",
       "       [ 109,   34]], dtype=int64)"
      ]
     },
     "execution_count": 54,
     "metadata": {},
     "output_type": "execute_result"
    }
   ],
   "source": [
    "confusion_matrix(y_test,clf_pred)"
   ]
  },
  {
   "cell_type": "code",
   "execution_count": 55,
   "metadata": {},
   "outputs": [
    {
     "data": {
      "text/plain": [
       "0.962248322147651"
      ]
     },
     "execution_count": 55,
     "metadata": {},
     "output_type": "execute_result"
    }
   ],
   "source": [
    "from sklearn.metrics import accuracy_score\n",
    "accuracy_score(y_test,clf_pred)"
   ]
  },
  {
   "cell_type": "code",
   "execution_count": 56,
   "metadata": {},
   "outputs": [
    {
     "name": "stdout",
     "output_type": "stream",
     "text": [
      "              precision    recall  f1-score   support\n",
      "\n",
      "           0       0.97      0.99      0.98      3433\n",
      "           1       0.57      0.24      0.33       143\n",
      "\n",
      "    accuracy                           0.96      3576\n",
      "   macro avg       0.77      0.62      0.66      3576\n",
      "weighted avg       0.95      0.96      0.95      3576\n",
      "\n"
     ]
    }
   ],
   "source": [
    "clf_pred =clf.predict(X_test)\n",
    "print(classification_report(y_test, clf_pred))"
   ]
  },
  {
   "cell_type": "code",
   "execution_count": 57,
   "metadata": {},
   "outputs": [
    {
     "data": {
      "text/plain": [
       "<AxesSubplot:>"
      ]
     },
     "execution_count": 57,
     "metadata": {},
     "output_type": "execute_result"
    },
    {
     "data": {
      "image/png": "[encoded data removed]",
      "text/plain": [
       "<Figure size 640x480 with 2 Axes>"
      ]
     },
     "metadata": {},
     "output_type": "display_data"
    }
   ],
   "source": [
    "Model_Name.append('Multi Layer Perceptron')\n",
    "\n",
    "Model_Score1.append(round(accuracy_score(y_test,  clf_pred), 4))\n",
    "Model_Score2.append(round(precision_score(y_test,  clf_pred), 4))\n",
    "Model_Score3.append(round(recall_score(y_test,  clf_pred), 4))\n",
    "Model_Score4.append(round(f1_score(y_test,  clf_pred), 4))\n",
    "Model_Score5.append(round(roc_auc_score(y_test,  clf_pred), 4))\n",
    "\n",
    "# Generate confusion matrix\n",
    "cm = confusion_matrix(y_test, clf_pred)\n",
    "\n",
    "# Plot confusion matrix as heatmap\n",
    "sns.heatmap(cm, annot=True, cmap='OrRd')"
   ]
  },
  {
   "cell_type": "markdown",
   "metadata": {
    "id": "q2y7g4YO107V"
   },
   "source": [
    "<h2>BUILDING A Bi-Directinoal LSTM WITH FEW LAYER</h2>"
   ]
  },
  {
   "cell_type": "code",
   "execution_count": 58,
   "metadata": {
    "colab": {
     "base_uri": "https://localhost:8080/"
    },
    "id": "8U05uuO8anxN",
    "outputId": "9148be6a-3bfe-4f27-d6ec-5584e431159f"
   },
   "outputs": [
    {
     "name": "stdout",
     "output_type": "stream",
     "text": [
      "WARNING:tensorflow:From C:\\Users\\DELL\\anaconda3\\lib\\site-packages\\keras\\src\\backend.py:873: The name tf.get_default_graph is deprecated. Please use tf.compat.v1.get_default_graph instead.\n",
      "\n",
      "WARNING:tensorflow:From C:\\Users\\DELL\\anaconda3\\lib\\site-packages\\keras\\src\\optimizers\\__init__.py:309: The name tf.train.Optimizer is deprecated. Please use tf.compat.v1.train.Optimizer instead.\n",
      "\n",
      "Model: \"sequential\"\n",
      "_________________________________________________________________\n",
      " Layer (type)                Output Shape              Param #   \n",
      "=================================================================\n",
      " embedding (Embedding)       (None, 80, 50)            250000    \n",
      "                                                                 \n",
      " bidirectional (Bidirection  (None, 200)               120800    \n",
      " al)                                                             \n",
      "                                                                 \n",
      " dropout (Dropout)           (None, 200)               0         \n",
      "                                                                 \n",
      " dense (Dense)               (None, 1)                 201       \n",
      "                                                                 \n",
      "=================================================================\n",
      "Total params: 371001 (1.42 MB)\n",
      "Trainable params: 371001 (1.42 MB)\n",
      "Non-trainable params: 0 (0.00 Byte)\n",
      "_________________________________________________________________\n",
      "None\n"
     ]
    }
   ],
   "source": [
    "embedding_vector_features=50\n",
    "model1=Sequential()\n",
    "model1.add(Embedding(voc_size,embedding_vector_features,input_length=sent_length*2))\n",
    "model1.add(Bidirectional(LSTM(100))) ##Just add bidirectional!!, except it would just behave as normal LSTM Model\n",
    "model1.add(Dropout(0.3))\n",
    "model1.add(Dense(1,activation='sigmoid'))\n",
    "model1.compile(loss='binary_crossentropy',optimizer='adam',metrics=['accuracy'])\n",
    "print(model1.summary())"
   ]
  },
  {
   "cell_type": "code",
   "execution_count": 59,
   "metadata": {
    "colab": {
     "base_uri": "https://localhost:8080/"
    },
    "id": "0Q-7Zgptavkv",
    "outputId": "f7e0c23e-8246-45b9-c250-3534bdb6b053"
   },
   "outputs": [
    {
     "name": "stdout",
     "output_type": "stream",
     "text": [
      "Epoch 1/50\n",
      "WARNING:tensorflow:From C:\\Users\\DELL\\anaconda3\\lib\\site-packages\\keras\\src\\utils\\tf_utils.py:492: The name tf.ragged.RaggedTensorValue is deprecated. Please use tf.compat.v1.ragged.RaggedTensorValue instead.\n",
      "\n",
      "WARNING:tensorflow:From C:\\Users\\DELL\\anaconda3\\lib\\site-packages\\keras\\src\\engine\\base_layer_utils.py:384: The name tf.executing_eagerly_outside_functions is deprecated. Please use tf.compat.v1.executing_eagerly_outside_functions instead.\n",
      "\n",
      "224/224 [==============================] - 27s 97ms/step - loss: 0.1883 - accuracy: 0.9523 - val_loss: 0.1131 - val_accuracy: 0.9659\n",
      "Epoch 2/50\n",
      "224/224 [==============================] - 21s 95ms/step - loss: 0.0950 - accuracy: 0.9700 - val_loss: 0.1030 - val_accuracy: 0.9729\n",
      "Epoch 3/50\n",
      "224/224 [==============================] - 21s 95ms/step - loss: 0.0603 - accuracy: 0.9818 - val_loss: 0.1000 - val_accuracy: 0.9701\n",
      "Epoch 4/50\n",
      "224/224 [==============================] - 22s 99ms/step - loss: 0.0423 - accuracy: 0.9864 - val_loss: 0.0993 - val_accuracy: 0.9754\n",
      "Epoch 5/50\n",
      "224/224 [==============================] - 25s 113ms/step - loss: 0.0256 - accuracy: 0.9931 - val_loss: 0.1034 - val_accuracy: 0.9734\n",
      "Epoch 6/50\n",
      "224/224 [==============================] - 21s 95ms/step - loss: 0.0179 - accuracy: 0.9953 - val_loss: 0.1344 - val_accuracy: 0.9740\n",
      "Epoch 7/50\n",
      "224/224 [==============================] - 21s 95ms/step - loss: 0.0103 - accuracy: 0.9973 - val_loss: 0.1449 - val_accuracy: 0.9662\n",
      "Epoch 8/50\n",
      "224/224 [==============================] - 21s 94ms/step - loss: 0.0080 - accuracy: 0.9976 - val_loss: 0.1360 - val_accuracy: 0.9737\n",
      "Epoch 9/50\n",
      "224/224 [==============================] - 21s 96ms/step - loss: 0.0044 - accuracy: 0.9987 - val_loss: 0.1558 - val_accuracy: 0.9667\n",
      "Epoch 10/50\n",
      "224/224 [==============================] - 21s 96ms/step - loss: 0.0032 - accuracy: 0.9990 - val_loss: 0.1549 - val_accuracy: 0.9762\n",
      "Epoch 11/50\n",
      "224/224 [==============================] - 22s 98ms/step - loss: 0.0013 - accuracy: 0.9998 - val_loss: 0.1814 - val_accuracy: 0.9715\n",
      "Epoch 12/50\n",
      "224/224 [==============================] - 22s 97ms/step - loss: 0.0036 - accuracy: 0.9989 - val_loss: 0.1374 - val_accuracy: 0.9670\n",
      "Epoch 13/50\n",
      "224/224 [==============================] - 22s 98ms/step - loss: 0.0060 - accuracy: 0.9983 - val_loss: 0.1643 - val_accuracy: 0.9732\n",
      "Epoch 14/50\n",
      "224/224 [==============================] - 22s 99ms/step - loss: 0.0012 - accuracy: 0.9999 - val_loss: 0.1823 - val_accuracy: 0.9723\n",
      "Epoch 15/50\n",
      "224/224 [==============================] - 26s 115ms/step - loss: 9.5432e-04 - accuracy: 0.9998 - val_loss: 0.1908 - val_accuracy: 0.9734\n",
      "Epoch 16/50\n",
      "224/224 [==============================] - 29s 130ms/step - loss: 3.3820e-04 - accuracy: 0.9999 - val_loss: 0.2014 - val_accuracy: 0.9723\n",
      "Epoch 17/50\n",
      "224/224 [==============================] - 36s 162ms/step - loss: 1.8783e-04 - accuracy: 1.0000 - val_loss: 0.2135 - val_accuracy: 0.9740\n",
      "Epoch 18/50\n",
      "224/224 [==============================] - 36s 161ms/step - loss: 8.5536e-05 - accuracy: 1.0000 - val_loss: 0.2218 - val_accuracy: 0.9732\n",
      "Epoch 19/50\n",
      "224/224 [==============================] - 25s 111ms/step - loss: 9.8777e-04 - accuracy: 0.9997 - val_loss: 0.1734 - val_accuracy: 0.9670\n",
      "Epoch 20/50\n",
      "224/224 [==============================] - 27s 122ms/step - loss: 0.0085 - accuracy: 0.9971 - val_loss: 0.1648 - val_accuracy: 0.9625\n",
      "Epoch 21/50\n",
      "224/224 [==============================] - 28s 127ms/step - loss: 0.0038 - accuracy: 0.9988 - val_loss: 0.1942 - val_accuracy: 0.9653\n",
      "Epoch 22/50\n",
      "224/224 [==============================] - 27s 119ms/step - loss: 0.0028 - accuracy: 0.9990 - val_loss: 0.1957 - val_accuracy: 0.9726\n",
      "Epoch 23/50\n",
      "224/224 [==============================] - 25s 112ms/step - loss: 8.8374e-04 - accuracy: 0.9998 - val_loss: 0.2105 - val_accuracy: 0.9706\n",
      "Epoch 24/50\n",
      "224/224 [==============================] - 24s 107ms/step - loss: 2.6171e-04 - accuracy: 1.0000 - val_loss: 0.2128 - val_accuracy: 0.9748\n",
      "Epoch 25/50\n",
      "224/224 [==============================] - 22s 100ms/step - loss: 1.7879e-04 - accuracy: 1.0000 - val_loss: 0.2233 - val_accuracy: 0.9734\n",
      "Epoch 26/50\n",
      "224/224 [==============================] - 24s 107ms/step - loss: 9.2237e-05 - accuracy: 1.0000 - val_loss: 0.2322 - val_accuracy: 0.9726\n",
      "Epoch 27/50\n",
      "224/224 [==============================] - 23s 104ms/step - loss: 4.7181e-05 - accuracy: 1.0000 - val_loss: 0.2423 - val_accuracy: 0.9732\n",
      "Epoch 28/50\n",
      "224/224 [==============================] - 24s 106ms/step - loss: 3.9753e-05 - accuracy: 1.0000 - val_loss: 0.2479 - val_accuracy: 0.9734\n",
      "Epoch 29/50\n",
      "224/224 [==============================] - 25s 113ms/step - loss: 4.6418e-05 - accuracy: 1.0000 - val_loss: 0.2482 - val_accuracy: 0.9732\n",
      "Epoch 30/50\n",
      "224/224 [==============================] - 24s 108ms/step - loss: 2.3978e-05 - accuracy: 1.0000 - val_loss: 0.2588 - val_accuracy: 0.9732\n",
      "Epoch 31/50\n",
      "224/224 [==============================] - 26s 116ms/step - loss: 1.5402e-05 - accuracy: 1.0000 - val_loss: 0.2641 - val_accuracy: 0.9737\n",
      "Epoch 32/50\n",
      "224/224 [==============================] - 24s 107ms/step - loss: 1.6151e-05 - accuracy: 1.0000 - val_loss: 0.2708 - val_accuracy: 0.9734\n",
      "Epoch 33/50\n",
      "224/224 [==============================] - 24s 106ms/step - loss: 1.1322e-05 - accuracy: 1.0000 - val_loss: 0.2764 - val_accuracy: 0.9732\n",
      "Epoch 34/50\n",
      "224/224 [==============================] - 24s 107ms/step - loss: 8.6622e-06 - accuracy: 1.0000 - val_loss: 0.2837 - val_accuracy: 0.9729\n",
      "Epoch 35/50\n",
      "224/224 [==============================] - 24s 106ms/step - loss: 8.9123e-06 - accuracy: 1.0000 - val_loss: 0.2900 - val_accuracy: 0.9734\n",
      "Epoch 36/50\n",
      "224/224 [==============================] - 23s 101ms/step - loss: 5.4673e-06 - accuracy: 1.0000 - val_loss: 0.2940 - val_accuracy: 0.9734\n",
      "Epoch 37/50\n",
      "224/224 [==============================] - 22s 96ms/step - loss: 5.3761e-06 - accuracy: 1.0000 - val_loss: 0.3001 - val_accuracy: 0.9737\n",
      "Epoch 38/50\n",
      "224/224 [==============================] - 22s 97ms/step - loss: 5.9544e-06 - accuracy: 1.0000 - val_loss: 0.3040 - val_accuracy: 0.9737\n",
      "Epoch 39/50\n",
      "224/224 [==============================] - 22s 97ms/step - loss: 4.4787e-06 - accuracy: 1.0000 - val_loss: 0.3090 - val_accuracy: 0.9729\n",
      "Epoch 40/50\n",
      "224/224 [==============================] - 22s 98ms/step - loss: 3.0168e-06 - accuracy: 1.0000 - val_loss: 0.3140 - val_accuracy: 0.9743\n",
      "Epoch 41/50\n",
      "224/224 [==============================] - 22s 100ms/step - loss: 4.3406e-06 - accuracy: 1.0000 - val_loss: 0.3196 - val_accuracy: 0.9740\n",
      "Epoch 42/50\n",
      "224/224 [==============================] - 23s 101ms/step - loss: 5.0326e-06 - accuracy: 1.0000 - val_loss: 0.3283 - val_accuracy: 0.9723\n",
      "Epoch 43/50\n",
      "224/224 [==============================] - 22s 98ms/step - loss: 0.0053 - accuracy: 0.9983 - val_loss: 0.2494 - val_accuracy: 0.9413\n",
      "Epoch 44/50\n",
      "224/224 [==============================] - 22s 100ms/step - loss: 0.0148 - accuracy: 0.9945 - val_loss: 0.1849 - val_accuracy: 0.9678\n",
      "Epoch 45/50\n",
      "224/224 [==============================] - 26s 115ms/step - loss: 0.0028 - accuracy: 0.9991 - val_loss: 0.1943 - val_accuracy: 0.9698\n",
      "Epoch 46/50\n",
      "224/224 [==============================] - 23s 103ms/step - loss: 8.1691e-04 - accuracy: 0.9999 - val_loss: 0.2143 - val_accuracy: 0.9718\n",
      "Epoch 47/50\n",
      "224/224 [==============================] - 22s 97ms/step - loss: 1.9173e-04 - accuracy: 1.0000 - val_loss: 0.2380 - val_accuracy: 0.9709\n",
      "Epoch 48/50\n",
      "224/224 [==============================] - 22s 98ms/step - loss: 8.9371e-05 - accuracy: 1.0000 - val_loss: 0.2469 - val_accuracy: 0.9712\n",
      "Epoch 49/50\n",
      "224/224 [==============================] - 22s 99ms/step - loss: 2.6886e-04 - accuracy: 0.9999 - val_loss: 0.2574 - val_accuracy: 0.9695\n",
      "Epoch 50/50\n",
      "224/224 [==============================] - 22s 97ms/step - loss: 9.9469e-04 - accuracy: 0.9997 - val_loss: 0.2342 - val_accuracy: 0.9715\n"
     ]
    },
    {
     "data": {
      "text/plain": [
       "<keras.src.callbacks.History at 0x2a8ee708b50>"
      ]
     },
     "execution_count": 59,
     "metadata": {},
     "output_type": "execute_result"
    }
   ],
   "source": [
    "\n",
    "from sklearn.preprocessing import LabelEncoder\n",
    "\n",
    "# Assuming x_train, x_test, y_train, and y_test are your input data and target labels\n",
    "\n",
    "# Encode the target labels\n",
    "le = LabelEncoder()\n",
    "\n",
    "y_train = le.fit_transform(y_train)\n",
    "y_test = le.transform(y_test)\n",
    "\n",
    "# Convert the input data and target labels to float tensors or NumPy arrays\n",
    "x_train = x_train.astype('float32')\n",
    "x_test = x_test.astype('float32')\n",
    "y_train = y_train.astype('float32')\n",
    "y_test = y_test.astype('float32')\n",
    "model1.fit(x_train,y_train,validation_data=(x_test,y_test),epochs=50,batch_size=64)\n"
   ]
  },
  {
   "cell_type": "code",
   "execution_count": 60,
   "metadata": {
    "colab": {
     "base_uri": "https://localhost:8080/"
    },
    "id": "PIOggpnQe7TG",
    "outputId": "8da3ed72-4c59-4f27-b675-fede21566fae"
   },
   "outputs": [
    {
     "name": "stdout",
     "output_type": "stream",
     "text": [
      "112/112 [==============================] - 3s 18ms/step\n"
     ]
    },
    {
     "data": {
      "text/plain": [
       "array([[0],\n",
       "       [0],\n",
       "       [0],\n",
       "       ...,\n",
       "       [0],\n",
       "       [0],\n",
       "       [0]])"
      ]
     },
     "execution_count": 60,
     "metadata": {},
     "output_type": "execute_result"
    }
   ],
   "source": [
    "y_pred=model1.predict(x_test)\n",
    "y_pred = np.round(y_pred).astype(int)\n",
    "y_pred"
   ]
  },
  {
   "cell_type": "code",
   "execution_count": 61,
   "metadata": {
    "colab": {
     "base_uri": "https://localhost:8080/"
    },
    "id": "s3MywEs_e9ee",
    "outputId": "2504c51c-136c-49d4-8d3a-545452adabc9"
   },
   "outputs": [
    {
     "data": {
      "text/plain": [
       "array([[3390,   43],\n",
       "       [  59,   84]], dtype=int64)"
      ]
     },
     "execution_count": 61,
     "metadata": {},
     "output_type": "execute_result"
    }
   ],
   "source": [
    "confusion_matrix(y_test,y_pred)\n"
   ]
  },
  {
   "cell_type": "code",
   "execution_count": 62,
   "metadata": {
    "colab": {
     "base_uri": "https://localhost:8080/"
    },
    "id": "xeIbftNDfAAW",
    "outputId": "bf2df116-4e04-4e97-a699-777b72b3afb1"
   },
   "outputs": [
    {
     "data": {
      "text/plain": [
       "0.9714765100671141"
      ]
     },
     "execution_count": 62,
     "metadata": {},
     "output_type": "execute_result"
    }
   ],
   "source": [
    "from sklearn.metrics import accuracy_score\n",
    "accuracy_score(y_test,y_pred)\n"
   ]
  },
  {
   "cell_type": "code",
   "execution_count": 63,
   "metadata": {},
   "outputs": [
    {
     "name": "stdout",
     "output_type": "stream",
     "text": [
      "              precision    recall  f1-score   support\n",
      "\n",
      "         0.0       0.98      0.99      0.99      3433\n",
      "         1.0       0.66      0.59      0.62       143\n",
      "\n",
      "    accuracy                           0.97      3576\n",
      "   macro avg       0.82      0.79      0.80      3576\n",
      "weighted avg       0.97      0.97      0.97      3576\n",
      "\n"
     ]
    }
   ],
   "source": [
    "print(classification_report(y_test, y_pred))"
   ]
  },
  {
   "cell_type": "code",
   "execution_count": 64,
   "metadata": {},
   "outputs": [
    {
     "data": {
      "text/plain": [
       "<AxesSubplot:>"
      ]
     },
     "execution_count": 64,
     "metadata": {},
     "output_type": "execute_result"
    },
    {
     "data": {
      "image/png": "[encoded data removed]",
      "text/plain": [
       "<Figure size 640x480 with 2 Axes>"
      ]
     },
     "metadata": {},
     "output_type": "display_data"
    }
   ],
   "source": [
    "#@title\n",
    "Model_Name.append('Bidirectional LSTM')\n",
    "\n",
    "Model_Score1.append(round(accuracy_score(y_test,  y_pred), 4))\n",
    "Model_Score2.append(round(precision_score(y_test,  y_pred), 4))\n",
    "Model_Score3.append(round(recall_score(y_test,  y_pred), 4))\n",
    "Model_Score4.append(round(f1_score(y_test,  y_pred), 4))\n",
    "Model_Score5.append(round(roc_auc_score(y_test,  y_pred), 4))\n",
    "\n",
    "# Generate confusion matrix\n",
    "cm = confusion_matrix(y_test, y_pred)\n",
    "\n",
    "# Plot confusion matrix as heatmap\n",
    "sns.heatmap(cm, annot=True, cmap='OrRd')"
   ]
  },
  {
   "cell_type": "code",
   "execution_count": 105,
   "metadata": {},
   "outputs": [
    {
     "data": {
      "image/png": "[encoded data removed]",
      "text/plain": [
       "<Figure size 640x480 with 2 Axes>"
      ]
     },
     "metadata": {},
     "output_type": "display_data"
    }
   ],
   "source": [
    "group_names = [\"True Neg\",\"False Pos\", \"False Neg\", \"True Pos\"]\n",
    "group_counts = [\"{0:0.0f}\".format(value) for value in\n",
    "                cm.flatten()]\n",
    "group_percentages = [\"{0:.2%}\".format(value) for value in\n",
    "                      cm.flatten()/np.sum(cm)]\n",
    "labels = [f'{v1}\\n{v2}\\n{v3}' for v1, v2, v3 in\n",
    "          zip(group_names,group_counts,group_percentages)]\n",
    "labels = np.asarray(labels).reshape(2,2)\n",
    "sns.heatmap(cm, annot=labels, fmt='', cmap='Blues');"
   ]
  },
  {
   "cell_type": "markdown",
   "metadata": {},
   "source": [
    "Comparision"
   ]
  },
  {
   "cell_type": "code",
   "execution_count": 65,
   "metadata": {},
   "outputs": [
    {
     "name": "stdout",
     "output_type": "stream",
     "text": [
      "[0.9622, 0.9715] [0.5667, 0.6614] [0.2378, 0.5874] [0.335, 0.6222] [0.6151, 0.7874]\n"
     ]
    }
   ],
   "source": [
    "print(Model_Score1,Model_Score2,Model_Score3,Model_Score4,Model_Score5)"
   ]
  },
  {
   "cell_type": "code",
   "execution_count": 66,
   "metadata": {},
   "outputs": [
    {
     "data": {
      "image/png": "[encoded data removed]",
      "text/plain": [
       "<Figure size 1500x600 with 1 Axes>"
      ]
     },
     "metadata": {},
     "output_type": "display_data"
    }
   ],
   "source": [
    "# Set the position of the bars on the x-axis\n",
    "x = np.arange(len(Model_Name))\n",
    "\n",
    "# Set the width of the bars\n",
    "width = 0.15\n",
    "\n",
    "# Create a figure and axis object\n",
    "fig, ax = plt.subplots(figsize=(15, 6))\n",
    "\n",
    "# Create the bars for each metric\n",
    "rects1 = ax.bar(x - 2*width, Model_Score1, width, label='Accuracy')\n",
    "rects2 = ax.bar(x - width, Model_Score2, width, label='Precision')\n",
    "rects3 = ax.bar(x, Model_Score3, width, label='Recall')\n",
    "rects4 = ax.bar(x + width, Model_Score4, width, label='F1 Score')\n",
    "rects5 = ax.bar(x + 2*width, Model_Score5, width, label='ROC-AUC')\n",
    "\n",
    "# Add labels, title and legend to the chart\n",
    "ax.set_xlabel('Model')\n",
    "ax.set_ylabel('Score')\n",
    "ax.set_title('Model Performance Comparison')\n",
    "ax.set_xticks(x)\n",
    "ax.set_xticklabels(Model_Name)\n",
    "ax.legend()\n",
    "\n",
    "# Add value labels to each bar\n",
    "def add_value_labels(rects):\n",
    "    for rect in rects:\n",
    "        height = rect.get_height()\n",
    "        ax.annotate('{:.2f}'.format(height),\n",
    "                    xy=(rect.get_x() + rect.get_width() / 2, height),\n",
    "                    xytext=(0, 3),  # 3 points vertical offset\n",
    "                    textcoords=\"offset points\",\n",
    "                    ha='center', va='bottom')\n",
    "        \n",
    "add_value_labels(rects1)\n",
    "add_value_labels(rects2)\n",
    "add_value_labels(rects3)\n",
    "add_value_labels(rects4)\n",
    "add_value_labels(rects5)\n",
    "plt.show()"
   ]
  },
  {
   "cell_type": "code",
   "execution_count": 119,
   "metadata": {},
   "outputs": [
    {
     "data": {
      "image/png": "[encoded data removed]",
      "text/plain": [
       "<Figure size 640x480 with 1 Axes>"
      ]
     },
     "metadata": {},
     "output_type": "display_data"
    }
   ],
   "source": [
    "\n",
    "x = np.arange(len(Model_Name))\n",
    "colors=['red','blue']\n",
    "for i in range(len(Model_Name)):\n",
    "    plt.bar(Model_Name[i], Model_Score1[i], color=colors[i % len(colors)])\n",
    "plt.title('Accuracy')\n",
    "plt.ylabel('Accuracy score')\n",
    "plt.show()"
   ]
  },
  {
   "cell_type": "code",
   "execution_count": 118,
   "metadata": {},
   "outputs": [
    {
     "data": {
      "image/png": "[encoded data removed]",
      "text/plain": [
       "<Figure size 640x480 with 1 Axes>"
      ]
     },
     "metadata": {},
     "output_type": "display_data"
    }
   ],
   "source": [
    "\n",
    "colors=['red','blue']\n",
    "for i in range(len(Model_Name)):\n",
    "    plt.bar(Model_Name[i], Model_Score2[i], color=colors[i % len(colors)])\n",
    "plt.title('Precision')\n",
    "plt.ylabel('Precision value')\n",
    "plt.show()"
   ]
  },
  {
   "cell_type": "code",
   "execution_count": 117,
   "metadata": {},
   "outputs": [
    {
     "data": {
      "image/png": "[encoded data removed]",
      "text/plain": [
       "<Figure size 640x480 with 1 Axes>"
      ]
     },
     "metadata": {},
     "output_type": "display_data"
    }
   ],
   "source": [
    "\n",
    "colors=['red','blue']\n",
    "for i in range(len(Model_Name)):\n",
    "    plt.bar(Model_Name[i], Model_Score4[i], color=colors[i % len(colors)])\n",
    "plt.title('F1')\n",
    "plt.ylabel('F1 value')\n",
    "plt.show()"
   ]
  },
  {
   "cell_type": "code",
   "execution_count": 121,
   "metadata": {},
   "outputs": [
    {
     "data": {
      "image/png": "[encoded data removed]",
      "text/plain": [
       "<Figure size 640x480 with 1 Axes>"
      ]
     },
     "metadata": {},
     "output_type": "display_data"
    }
   ],
   "source": [
    "\n",
    "colors=['red','blue']\n",
    "for i in range(len(Model_Name)):\n",
    "    plt.bar(Model_Name[i], Model_Score5[i], color=colors[i % len(colors)])\n",
    "plt.title('ROC_AUC')\n",
    "plt.ylabel('ROC_AUC')\n",
    "plt.show()\n"
   ]
  },
  {
   "cell_type": "code",
   "execution_count": 113,
   "metadata": {},
   "outputs": [
    {
     "data": {
      "image/png": "[encoded data removed]",
      "text/plain": [
       "<Figure size 1200x1200 with 4 Axes>"
      ]
     },
     "metadata": {},
     "output_type": "display_data"
    }
   ],
   "source": [
    "Model_Names = [Model_Name]*4\n",
    "\n",
    "Model_Scores = [Model_Score1,Model_Score2,Model_Score4,Model_Score5]\n",
    "plt.figure(figsize=(12,12))\n",
    "title=['Accuracy','Precision','F1 score','ROC_AUC']\n",
    "ylabel=[\"Accuracy score\",'Precision value','F1 score','ROC_AUC']\n",
    "# Define colors for bars\n",
    "colors = ['blue', 'red']\n",
    "\n",
    "# Specify the width of the bars\n",
    "bar_width = 0.1\n",
    "\n",
    "\n",
    "# Define the number of rows and columns for subplots\n",
    "num_rows = 2\n",
    "num_cols = 2\n",
    "\n",
    "# Calculate the width and height for each subplot\n",
    "subplot_width = 6  # Total width of the figure divided by the number of columns\n",
    "subplot_height = 6  # Total height of the figure divided by the number of rows\n",
    "\n",
    "# Plot each subplot\n",
    "for i in range(len(Model_Names)):\n",
    "    ax = plt.subplot(num_rows, num_cols, i+1)\n",
    "    for j in range(len(Model_Names[i])):\n",
    "        ax.bar(positions[j] - 0.2, Model_Scores[i][j], color=colors[j % len(colors)])\n",
    "    ax.set_title(title[i])\n",
    "    ax.set_ylabel(ylabel[i])\n",
    "    ax.set_xticks(positions - 0.2)\n",
    "    ax.set_xticklabels(Model_Names[i])\n",
    "\n",
    "# Adjust the size of subplots\n",
    "plt.subplots_adjust(left=0.1, bottom=0.1, right=0.9, top=0.9, wspace=0.4, hspace=0.4)\n",
    "\n",
    "plt.show()\n",
    "\n"
   ]
  },
  {
   "cell_type": "code",
   "execution_count": 68,
   "metadata": {},
   "outputs": [
    {
     "data": {
      "image/png": "[encoded data removed]",
      "text/plain": [
       "<Figure size 1500x1000 with 1 Axes>"
      ]
     },
     "metadata": {},
     "output_type": "display_data"
    }
   ],
   "source": [
    "plt.figure(figsize = (15, 10))\n",
    "plt.plot(Model_Name,Model_Score1, marker = 'o', color = 'blue')\n",
    "plt.plot(Model_Name,Model_Score2, marker = 'o', color = 'green')\n",
    "plt.plot(Model_Name,Model_Score4, marker = 'o', color = 'yellow')\n",
    "plt.plot(Model_Name,Model_Score5, marker = 'o', color = 'Violet')\n",
    "plt.title('Comparison of different models')\n",
    "plt.xlabel('Models')\n",
    "plt.ylabel('accuracy-blue                 precision-green                   f1-yellow                    roc_auc-violet')\n",
    "plt.grid()\n",
    "plt.savefig('Model_compare_final_all.jpeg')\n",
    "plt.show()"
   ]
  },
  {
   "cell_type": "code",
   "execution_count": null,
   "metadata": {},
   "outputs": [],
   "source": []
  }
 ],
 "metadata": {
  "colab": {
   "authorship_tag": "ABX9TyPlXBzbRuasdeoVf180J4r7",
   "collapsed_sections": [],
   "include_colab_link": true,
   "name": "Fake Job Detection.ipynb",
   "provenance": []
  },
  "kernelspec": {
   "display_name": "Python 3 (ipykernel)",
   "language": "python",
   "name": "python3"
  },
  "language_info": {
   "codemirror_mode": {
    "name": "ipython",
    "version": 3
   },
   "file_extension": ".py",
   "mimetype": "text/x-python",
   "name": "python",
   "nbconvert_exporter": "python",
   "pygments_lexer": "ipython3",
   "version": "3.9.13"
  }
 },
 "nbformat": 4,
 "nbformat_minor": 1
}
